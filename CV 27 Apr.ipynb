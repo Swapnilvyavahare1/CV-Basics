{
 "cells": [
  {
   "cell_type": "markdown",
   "id": "f3cb57b7",
   "metadata": {},
   "source": [
    "- Translation\n"
   ]
  },
  {
   "cell_type": "code",
   "execution_count": 1,
   "id": "7d777569",
   "metadata": {},
   "outputs": [],
   "source": [
    "# Translation\n",
    "\n",
    "import numpy as np\n",
    "import cv2\n",
    "\n",
    "image = cv2.imread('prabhas.jpg')\n",
    "\n",
    "# store height and width of the image\n",
    "\n",
    "height, width = image.shape[:2]\n",
    "\n",
    "quarter_height, quarter_width = height/8, width/8\n",
    "\n",
    "# T is our Transalation matrix\n",
    "\n",
    "T = np.float32([[1,0, quarter_width], [0, 1, quarter_height]])\n",
    "\n",
    "# we use algorithm - cv2.warpAffine to do the translation\n",
    "\n",
    "img_translation = cv2.warpAffine(image, T, (height, width))\n",
    "cv2.imshow(\"Translation\", img_translation)\n",
    "cv2.waitKey()\n",
    "cv2.destroyAllWindows()"
   ]
  },
  {
   "cell_type": "code",
   "execution_count": 2,
   "id": "e4556593",
   "metadata": {},
   "outputs": [
    {
     "name": "stdout",
     "output_type": "stream",
     "text": [
      "[[  1.    0.  137.5]\n",
      " [  0.    1.   75. ]]\n"
     ]
    }
   ],
   "source": [
    "print(T)"
   ]
  },
  {
   "cell_type": "code",
   "execution_count": 3,
   "id": "31a94ea2",
   "metadata": {},
   "outputs": [
    {
     "name": "stdout",
     "output_type": "stream",
     "text": [
      "(600, 1100, 3)\n"
     ]
    }
   ],
   "source": [
    "print(image.shape)"
   ]
  },
  {
   "cell_type": "code",
   "execution_count": 4,
   "id": "9ec69d16",
   "metadata": {},
   "outputs": [],
   "source": [
    "# Rotation\n",
    "\n",
    "image = cv2.imread('prabhas.jpg')\n",
    "height, width = image.shape[:2]\n",
    "rotation_matrix = cv2.getRotationMatrix2D((width/2,height/2), 45, 1.0)\n",
    "rotated = cv2.warpAffine(image, rotation_matrix, (width, height))\n",
    "cv2.imshow(\"translation_rotation\", rotated)\n",
    "cv2.waitKey()\n",
    "cv2.destroyAllWindows()"
   ]
  },
  {
   "cell_type": "code",
   "execution_count": 5,
   "id": "55da05ef",
   "metadata": {},
   "outputs": [],
   "source": [
    "# Flip\n",
    "\n",
    "flipped = cv2.flip(image, 1)\n",
    "cv2.imshow(\"image_flip\", flipped)\n",
    "cv2.waitKey()\n",
    "cv2.destroyAllWindows()"
   ]
  },
  {
   "cell_type": "code",
   "execution_count": 6,
   "id": "397786fb",
   "metadata": {},
   "outputs": [],
   "source": [
    "# Scaling\n",
    "\n",
    "image = cv2.imread('prabhas.jpg')\n",
    "cv2.imshow(\"Original\", image)\n",
    "cv2.waitKey()\n",
    "\n",
    "image_scaled = cv2.resize(image, None, fx = 0.75, fy=0.75)\n",
    "cv2.imshow(\"resize the image\", image_scaled)\n",
    "cv2.waitKey()\n",
    "\n",
    "image_scaled1 = cv2.resize(image, None, fx = 2, fy=2, interpolation= cv2.INTER_CUBIC)\n",
    "cv2.imshow(\"double the size of the image\", image_scaled1)\n",
    "cv2.waitKey()\n",
    "\n",
    "\n",
    "image_scaled2 = cv2.resize(image, (900,400), interpolation= cv2.INTER_AREA)\n",
    "cv2.imshow(\"dimention with the image\", image_scaled2)\n",
    "cv2.waitKey()\n",
    "\n",
    "\n",
    "cv2.destroyAllWindows()"
   ]
  },
  {
   "cell_type": "code",
   "execution_count": 7,
   "id": "7e0f87bd",
   "metadata": {},
   "outputs": [],
   "source": [
    "# Image Pyramid\n",
    "# For scaling the image\n",
    "\n",
    "image = cv2.imread('prabhas.jpg')\n",
    "\n",
    "smaller = cv2.pyrDown(image)\n",
    "larger = cv2.pyrUp(image)\n",
    "\n",
    "cv2.imshow(\"Original Image\", image)\n",
    "cv2.waitKey()\n",
    "\n",
    "cv2.imshow(\"Small Image\", smaller)\n",
    "cv2.waitKey()\n",
    "\n",
    "cv2.imshow(\"Large Image\", larger)\n",
    "cv2.waitKey()\n",
    "cv2.destroyAllWindows()"
   ]
  },
  {
   "cell_type": "code",
   "execution_count": 3,
   "id": "7bb80927",
   "metadata": {},
   "outputs": [],
   "source": [
    "# Rotate skewed A4 paper\n",
    "\n",
    "image = cv2.imread('scan.jpeg')\n",
    "cv2.imshow(\"Original Image\", image)\n",
    "cv2.waitKey()\n",
    "\n",
    "\n",
    "# coordinates of the 4 corners of the original image\n",
    "\n",
    "Point_A = np.float32([[320,15],[700,215],[86,610],[530,780]]) \n",
    "\n",
    "Point_B = np.float32([[0,0],[420,0],[0,594],[420,594]])\n",
    "\n",
    "# User ProspectiveTransfomration approach \n",
    "\n",
    "M = cv2.getPerspectiveTransform(Point_A, Point_B)\n",
    "\n",
    "warped = cv2.warpPerspective(image, M, (1600,1600))\n",
    "cv2.imshow(\"warpPerspective\", warped)\n",
    "cv2.waitKey()\n",
    "cv2.destroyAllWindows()"
   ]
  },
  {
   "cell_type": "code",
   "execution_count": 2,
   "id": "9b737ea5",
   "metadata": {},
   "outputs": [],
   "source": [
    "# Rotate skewed A4 paper\n",
    "\n",
    "import numpy as np\n",
    "import cv2\n",
    "\n",
    "image = cv2.imread('scan.jpeg')\n",
    "cv2.imshow(\"Original Image\", image)\n",
    "\n",
    "rows, cols= image.shape[:2]\n",
    "cv2.waitKey()\n",
    "\n",
    "\n",
    "# coordinates of the 4 corners of the original image\n",
    "\n",
    "Point_A = np.float32([[320,15],[700,215],[86,610]]) \n",
    "\n",
    "Point_B = np.float32([[0,0],[420,0],[0,594]])\n",
    "\n",
    "# User ProspectiveTransfomration approach \n",
    "\n",
    "M = cv2.getAffineTransform(Point_A, Point_B)\n",
    "\n",
    "warped = cv2.warpAffine(image, M, (cols,rows))\n",
    "cv2.imshow(\"warpPerspective\", warped)\n",
    "cv2.waitKey()\n",
    "cv2.destroyAllWindows()"
   ]
  },
  {
   "cell_type": "code",
   "execution_count": null,
   "id": "e8add2b4",
   "metadata": {},
   "outputs": [],
   "source": [
    "# Segmentation"
   ]
  },
  {
   "cell_type": "code",
   "execution_count": null,
   "id": "c8eb62fc",
   "metadata": {},
   "outputs": [],
   "source": [
    "# Contours"
   ]
  },
  {
   "cell_type": "code",
   "execution_count": 10,
   "id": "8d89577b",
   "metadata": {},
   "outputs": [
    {
     "name": "stdout",
     "output_type": "stream",
     "text": [
      "Number of Contours found = 22\n"
     ]
    }
   ],
   "source": [
    "import cv2\n",
    "import numpy as np\n",
    "\n",
    "# 1st step - import image \n",
    "image = cv2.imread('shapes.png')\n",
    "cv2.imshow(\"Original\", image)\n",
    "cv2.waitKey(0)\n",
    "\n",
    "# 2nd Step - GrayScale\n",
    "gray = cv2.cvtColor(image, cv2.COLOR_BGR2GRAY)\n",
    "\n",
    "# 3rd step - find the edges\n",
    "edged = cv2.Canny(gray, 30,200)\n",
    "cv2.imshow(\"Canny Edges\", edged)\n",
    "cv2.waitKey(0)\n",
    "\n",
    "# 4th steps - find countour\n",
    "#cv.RETR_LIST - retrieves all contours \n",
    "#cv.RETR_TREE, \n",
    "#cv.RETR_CCOMP, \n",
    "#cv.RETR_EXTERNAL\n",
    "\n",
    "contours, hierarchy = cv2.findContours(edged, cv2.RETR_LIST, cv2.CHAIN_APPROX_NONE)\n",
    "cv2.imshow(\"Canny Edges after contoring\", edged)\n",
    "cv2.waitKey(0)\n",
    "\n",
    "\n",
    "print(\"Number of Contours found = \" + str(len(contours)))\n",
    "\n",
    "cv2.drawContours(image, contours, -1, (0,255,0), 3)\n",
    "cv2.imshow(\"Countours\", image)\n",
    "cv2.waitKey(0)\n",
    "cv2.destroyAllWindows()"
   ]
  },
  {
   "cell_type": "code",
   "execution_count": 5,
   "id": "229396c7",
   "metadata": {},
   "outputs": [],
   "source": [
    "# Case- Car detection"
   ]
  },
  {
   "cell_type": "code",
   "execution_count": 11,
   "id": "c5b64232",
   "metadata": {},
   "outputs": [],
   "source": [
    "import cv2\n",
    "import numpy as np\n",
    "import time\n",
    "\n",
    "car_classifier = cv2.CascadeClassifier('haarcascade_car.xml')\n",
    "\n",
    "cap = cv2.VideoCapture('cars.avi')\n",
    "\n",
    "while cap.isOpened():\n",
    "    time.sleep(0.05)\n",
    "    # read first frame\n",
    "    ret, frame = cap.read()\n",
    "    gray = cv2.cvtColor(frame, cv2.COLOR_BGR2GRAY)\n",
    "    \n",
    "    # Pass the frame to car classifier\n",
    "    cars = car_classifier.detectMultiScale(gray, 1.4, 2)\n",
    "    \n",
    "    # extract bounding boxes for any bodies identified\n",
    "    \n",
    "    for (x, y, w, h) in cars:\n",
    "        cv2.rectangle(frame, (x,y),(x+w, y+h), (0,255,255), 2)\n",
    "        cv2.imshow(\"Cars\", frame)\n",
    "        \n",
    "    if cv2.waitKey(1)==13:\n",
    "        break\n",
    "\n",
    "cap.release()\n",
    "cv2.destroyAllWindows()"
   ]
  },
  {
   "cell_type": "code",
   "execution_count": null,
   "id": "caafb590",
   "metadata": {},
   "outputs": [],
   "source": []
  },
  {
   "cell_type": "code",
   "execution_count": null,
   "id": "140d5c23",
   "metadata": {},
   "outputs": [],
   "source": []
  },
  {
   "cell_type": "code",
   "execution_count": null,
   "id": "37930d74",
   "metadata": {},
   "outputs": [],
   "source": []
  },
  {
   "cell_type": "code",
   "execution_count": null,
   "id": "d87dc927",
   "metadata": {},
   "outputs": [],
   "source": []
  },
  {
   "cell_type": "code",
   "execution_count": null,
   "id": "f02ab855",
   "metadata": {},
   "outputs": [],
   "source": []
  },
  {
   "cell_type": "code",
   "execution_count": null,
   "id": "60d39ead",
   "metadata": {},
   "outputs": [],
   "source": []
  },
  {
   "cell_type": "code",
   "execution_count": null,
   "id": "2200a86a",
   "metadata": {},
   "outputs": [],
   "source": []
  },
  {
   "cell_type": "code",
   "execution_count": null,
   "id": "6880ddd8",
   "metadata": {},
   "outputs": [],
   "source": []
  },
  {
   "cell_type": "code",
   "execution_count": null,
   "id": "d12ad593",
   "metadata": {},
   "outputs": [],
   "source": []
  },
  {
   "cell_type": "code",
   "execution_count": null,
   "id": "88344d07",
   "metadata": {},
   "outputs": [],
   "source": []
  },
  {
   "cell_type": "code",
   "execution_count": null,
   "id": "3197dbc5",
   "metadata": {},
   "outputs": [],
   "source": []
  }
 ],
 "metadata": {
  "kernelspec": {
   "display_name": "Python 3 (ipykernel)",
   "language": "python",
   "name": "python3"
  },
  "language_info": {
   "codemirror_mode": {
    "name": "ipython",
    "version": 3
   },
   "file_extension": ".py",
   "mimetype": "text/x-python",
   "name": "python",
   "nbconvert_exporter": "python",
   "pygments_lexer": "ipython3",
   "version": "3.9.12"
  }
 },
 "nbformat": 4,
 "nbformat_minor": 5
}
