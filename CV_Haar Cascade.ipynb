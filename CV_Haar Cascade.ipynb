{
 "cells": [
  {
   "cell_type": "code",
   "execution_count": 2,
   "id": "6a2113cc",
   "metadata": {},
   "outputs": [],
   "source": [
    "import numpy as np\n",
    "import pandas as pd\n",
    "import cv2"
   ]
  },
  {
   "cell_type": "code",
   "execution_count": 2,
   "id": "502f166c",
   "metadata": {},
   "outputs": [],
   "source": [
    "# Read image\n",
    "\n",
    "input1= cv2.imread('Modi.jpg')\n",
    "cv2.imshow('Modi', input1)\n",
    "cv2.waitKey()\n",
    "cv2.destroyAllWindows()"
   ]
  },
  {
   "cell_type": "code",
   "execution_count": 3,
   "id": "ab921de2",
   "metadata": {},
   "outputs": [],
   "source": [
    "# Crop image\n",
    "\n",
    "cropped_input= input1[100:1000,100:1000]\n",
    "cv2.imshow('Modi_cropped', cropped_input)\n",
    "cv2.waitKey()\n",
    "cv2.destroyAllWindows()"
   ]
  },
  {
   "cell_type": "code",
   "execution_count": 4,
   "id": "76bc6a65",
   "metadata": {},
   "outputs": [
    {
     "data": {
      "text/plain": [
       "True"
      ]
     },
     "execution_count": 4,
     "metadata": {},
     "output_type": "execute_result"
    }
   ],
   "source": [
    "# Write image\n",
    "\n",
    "cv2.imwrite('Cropped_Modiji.png', cropped_input)"
   ]
  },
  {
   "cell_type": "code",
   "execution_count": 16,
   "id": "6e5b02fb",
   "metadata": {},
   "outputs": [],
   "source": [
    "# Draw an own image\n",
    "\n",
    "img= np.zeros((512, 512, 3))\n",
    "cv2.imshow('Black Window', img)\n",
    "cv2.waitKey()\n",
    "cv2.destroyAllWindows()"
   ]
  },
  {
   "cell_type": "code",
   "execution_count": 7,
   "id": "96de17e6",
   "metadata": {},
   "outputs": [
    {
     "data": {
      "text/plain": [
       "(512, 512, 3)"
      ]
     },
     "execution_count": 7,
     "metadata": {},
     "output_type": "execute_result"
    }
   ],
   "source": [
    "img.shape"
   ]
  },
  {
   "cell_type": "code",
   "execution_count": 21,
   "id": "1c820b1b",
   "metadata": {},
   "outputs": [],
   "source": [
    "# Draw a rectangle\n",
    "\n",
    "cv2.rectangle(img, pt1=(100,200), pt2= (300,100), color= (255,0,0), thickness=3)\n",
    "cv2.circle(img, center= (250,250), radius=50, color= (255,0,0), thickness=-1)\n",
    "cv2.line(img, pt1=(100,200), pt2= (300,100), color= (255,0,0), thickness=3)\n",
    "cv2.putText(img, text= \"Hello\", org=(100,100), fontFace=cv2.FONT_ITALIC, fontScale= 2, color= (255,0,0))\n",
    "cv2.imshow('Black Window', img)\n",
    "cv2.waitKey()\n",
    "cv2.destroyAllWindows()"
   ]
  },
  {
   "cell_type": "code",
   "execution_count": 32,
   "id": "044720e2",
   "metadata": {},
   "outputs": [],
   "source": [
    "# Use Haarcascade xml file\n",
    "\n",
    "image= cv2.imread('Modi.jpg')\n",
    "face_classification= cv2.CascadeClassifier('haarcascade_frontalface_default.xml')\n",
    "gray= cv2.cvtColor(image, cv2.COLOR_BGR2GRAY)\n",
    "faces= face_classification.detectMultiScale(gray, 1.5, 5)"
   ]
  },
  {
   "cell_type": "code",
   "execution_count": 33,
   "id": "58072532",
   "metadata": {},
   "outputs": [
    {
     "name": "stderr",
     "output_type": "stream",
     "text": [
      "<>:1: SyntaxWarning: \"is\" with a literal. Did you mean \"==\"?\n",
      "<>:1: SyntaxWarning: \"is\" with a literal. Did you mean \"==\"?\n",
      "C:\\Users\\DELL 2\\AppData\\Local\\Temp\\ipykernel_6684\\3296647586.py:1: SyntaxWarning: \"is\" with a literal. Did you mean \"==\"?\n",
      "  if faces is ():\n"
     ]
    }
   ],
   "source": [
    "if faces is ():\n",
    "    print('No faces found')\n",
    "\n",
    "for (x,y,w,h) in faces:\n",
    "    cv2.rectangle(image, (x,y), (x+w,y+h), (127,0,255), 2)    \n",
    "    cv2.imshow('Face Detection', image)\n",
    "    cv2.waitKey()\n",
    "\n",
    "cv2.destroyAllWindows()"
   ]
  },
  {
   "cell_type": "code",
   "execution_count": 41,
   "id": "852e74fc",
   "metadata": {},
   "outputs": [
    {
     "name": "stderr",
     "output_type": "stream",
     "text": [
      "<>:10: SyntaxWarning: \"is\" with a literal. Did you mean \"==\"?\n",
      "<>:10: SyntaxWarning: \"is\" with a literal. Did you mean \"==\"?\n",
      "C:\\Users\\DELL 2\\AppData\\Local\\Temp\\ipykernel_6684\\2367688179.py:10: SyntaxWarning: \"is\" with a literal. Did you mean \"==\"?\n",
      "  if faces is ():\n"
     ]
    },
    {
     "ename": "KeyboardInterrupt",
     "evalue": "",
     "output_type": "error",
     "traceback": [
      "\u001b[1;31m---------------------------------------------------------------------------\u001b[0m",
      "\u001b[1;31mKeyboardInterrupt\u001b[0m                         Traceback (most recent call last)",
      "Input \u001b[1;32mIn [41]\u001b[0m, in \u001b[0;36m<cell line: 13>\u001b[1;34m()\u001b[0m\n\u001b[0;32m     14\u001b[0m cv2\u001b[38;5;241m.\u001b[39mrectangle(image1, (x,y), (x\u001b[38;5;241m+\u001b[39mw,y\u001b[38;5;241m+\u001b[39mh), (\u001b[38;5;241m127\u001b[39m,\u001b[38;5;241m0\u001b[39m,\u001b[38;5;241m255\u001b[39m), \u001b[38;5;241m2\u001b[39m)    \n\u001b[0;32m     15\u001b[0m cv2\u001b[38;5;241m.\u001b[39mimshow(\u001b[38;5;124m'\u001b[39m\u001b[38;5;124mFace Detection\u001b[39m\u001b[38;5;124m'\u001b[39m, image1)\n\u001b[1;32m---> 16\u001b[0m \u001b[43mcv2\u001b[49m\u001b[38;5;241;43m.\u001b[39;49m\u001b[43mwaitKey\u001b[49m\u001b[43m(\u001b[49m\u001b[38;5;241;43m0\u001b[39;49m\u001b[43m)\u001b[49m\n\u001b[0;32m     18\u001b[0m roi_gray\u001b[38;5;241m=\u001b[39m image1[y:y\u001b[38;5;241m+\u001b[39mh, x:x\u001b[38;5;241m+\u001b[39mw]\n\u001b[0;32m     19\u001b[0m roi_color\u001b[38;5;241m=\u001b[39m image1[y:y\u001b[38;5;241m+\u001b[39mh, x:x\u001b[38;5;241m+\u001b[39mw]\n",
      "\u001b[1;31mKeyboardInterrupt\u001b[0m: "
     ]
    }
   ],
   "source": [
    "# Eg2\n",
    "\n",
    "image1= cv2.imread('multiple-portraits-of-young-mans-face-EN7YKX.jpg')\n",
    "face_classification= cv2.CascadeClassifier('haarcascade_frontalface_default.xml')\n",
    "eye_classification= cv2.CascadeClassifier('haarcascade_eye.xml')\n",
    "\n",
    "faces= face_classification.detectMultiScale(image1, 1.5, 5)\n",
    "\n",
    "\n",
    "if faces is ():\n",
    "    print('No faces found')\n",
    "\n",
    "for (x,y,w,h) in faces:\n",
    "    cv2.rectangle(image1, (x,y), (x+w,y+h), (127,0,255), 2)    \n",
    "    cv2.imshow('Face Detection', image1)\n",
    "    cv2.waitKey(0)\n",
    "    \n",
    "    roi_gray= image1[y:y+h, x:x+w]\n",
    "    roi_color= image1[y:y+h, x:x+w]\n",
    "    \n",
    "    eyes= eye_classification.detectMultiScale(roi_gray)\n",
    "    \n",
    "    for (ex,ey,ew,eh) in eyes:\n",
    "        cv2.rectangle(roi_color, (ex,ey), (ex+ew,ey+eh), (255,0,255), 2)    \n",
    "        cv2.imshow('Eye Detection', image1)\n",
    "        cv2.waitKey(0)\n",
    "\n",
    "cv2.destroyAllWindows()"
   ]
  },
  {
   "cell_type": "code",
   "execution_count": 3,
   "id": "1750b941",
   "metadata": {},
   "outputs": [],
   "source": [
    "# Walking Videos\n",
    "\n",
    "body_classifier= cv2.CascadeClassifier('haarcascade_fullbody.xml')\n",
    "cap= cv2.VideoCapture('walking.avi')\n",
    "\n",
    "while cap.isOpened():\n",
    "    ret, frame= cap.read()\n",
    "    gray= cv2.cvtColor(frame, cv2.COLOR_BGR2GRAY)\n",
    "    bodies= body_classifier.detectMultiScale(gray, 1.2, 3)\n",
    "    \n",
    "    for (x,y,w,h) in bodies:\n",
    "        cv2.rectangle(frame, (x,y), (x+w,y+h), (127,0,255), 2)    \n",
    "        cv2.imshow('Person', frame)\n",
    "    \n",
    "    if cv2.waitKey(1)==13:\n",
    "        break\n",
    "\n",
    "cap.release()\n",
    "cv2.destroyAllWindows()"
   ]
  },
  {
   "cell_type": "code",
   "execution_count": null,
   "id": "c279d73a",
   "metadata": {},
   "outputs": [],
   "source": []
  },
  {
   "cell_type": "code",
   "execution_count": null,
   "id": "8e71240e",
   "metadata": {},
   "outputs": [],
   "source": []
  },
  {
   "cell_type": "code",
   "execution_count": null,
   "id": "4ca8a6e3",
   "metadata": {},
   "outputs": [],
   "source": []
  },
  {
   "cell_type": "code",
   "execution_count": null,
   "id": "57e67a93",
   "metadata": {},
   "outputs": [],
   "source": []
  },
  {
   "cell_type": "code",
   "execution_count": null,
   "id": "554eed35",
   "metadata": {},
   "outputs": [],
   "source": []
  },
  {
   "cell_type": "code",
   "execution_count": null,
   "id": "8ddc10fb",
   "metadata": {},
   "outputs": [],
   "source": []
  },
  {
   "cell_type": "code",
   "execution_count": null,
   "id": "8490d54a",
   "metadata": {},
   "outputs": [],
   "source": []
  },
  {
   "cell_type": "code",
   "execution_count": null,
   "id": "ee7f30d7",
   "metadata": {},
   "outputs": [],
   "source": []
  },
  {
   "cell_type": "code",
   "execution_count": null,
   "id": "483d5706",
   "metadata": {},
   "outputs": [],
   "source": []
  },
  {
   "cell_type": "code",
   "execution_count": null,
   "id": "cfb9c868",
   "metadata": {},
   "outputs": [],
   "source": []
  },
  {
   "cell_type": "code",
   "execution_count": null,
   "id": "949b2e68",
   "metadata": {},
   "outputs": [],
   "source": []
  },
  {
   "cell_type": "code",
   "execution_count": null,
   "id": "b2e4a696",
   "metadata": {},
   "outputs": [],
   "source": []
  },
  {
   "cell_type": "code",
   "execution_count": null,
   "id": "fd8e8f16",
   "metadata": {},
   "outputs": [],
   "source": []
  },
  {
   "cell_type": "code",
   "execution_count": null,
   "id": "1933be69",
   "metadata": {},
   "outputs": [],
   "source": []
  },
  {
   "cell_type": "code",
   "execution_count": null,
   "id": "eacab767",
   "metadata": {},
   "outputs": [],
   "source": []
  },
  {
   "cell_type": "code",
   "execution_count": null,
   "id": "17604601",
   "metadata": {},
   "outputs": [],
   "source": []
  },
  {
   "cell_type": "code",
   "execution_count": null,
   "id": "11ca17d8",
   "metadata": {},
   "outputs": [],
   "source": []
  },
  {
   "cell_type": "code",
   "execution_count": null,
   "id": "a5f9589a",
   "metadata": {},
   "outputs": [],
   "source": []
  },
  {
   "cell_type": "code",
   "execution_count": null,
   "id": "a8161725",
   "metadata": {},
   "outputs": [],
   "source": []
  },
  {
   "cell_type": "code",
   "execution_count": null,
   "id": "c4a38c67",
   "metadata": {},
   "outputs": [],
   "source": []
  },
  {
   "cell_type": "code",
   "execution_count": null,
   "id": "593880f3",
   "metadata": {},
   "outputs": [],
   "source": []
  },
  {
   "cell_type": "code",
   "execution_count": null,
   "id": "54b0eec9",
   "metadata": {},
   "outputs": [],
   "source": []
  },
  {
   "cell_type": "code",
   "execution_count": null,
   "id": "e4bd6cb3",
   "metadata": {},
   "outputs": [],
   "source": []
  },
  {
   "cell_type": "code",
   "execution_count": null,
   "id": "157bf031",
   "metadata": {},
   "outputs": [],
   "source": []
  },
  {
   "cell_type": "code",
   "execution_count": null,
   "id": "3a81cde2",
   "metadata": {},
   "outputs": [],
   "source": []
  },
  {
   "cell_type": "code",
   "execution_count": null,
   "id": "8d5c4778",
   "metadata": {},
   "outputs": [],
   "source": []
  },
  {
   "cell_type": "code",
   "execution_count": null,
   "id": "1e678722",
   "metadata": {},
   "outputs": [],
   "source": []
  },
  {
   "cell_type": "code",
   "execution_count": null,
   "id": "2f1eb991",
   "metadata": {},
   "outputs": [],
   "source": []
  },
  {
   "cell_type": "code",
   "execution_count": null,
   "id": "87dae962",
   "metadata": {},
   "outputs": [],
   "source": []
  },
  {
   "cell_type": "code",
   "execution_count": null,
   "id": "46663209",
   "metadata": {},
   "outputs": [],
   "source": []
  }
 ],
 "metadata": {
  "kernelspec": {
   "display_name": "Python 3 (ipykernel)",
   "language": "python",
   "name": "python3"
  },
  "language_info": {
   "codemirror_mode": {
    "name": "ipython",
    "version": 3
   },
   "file_extension": ".py",
   "mimetype": "text/x-python",
   "name": "python",
   "nbconvert_exporter": "python",
   "pygments_lexer": "ipython3",
   "version": "3.9.12"
  }
 },
 "nbformat": 4,
 "nbformat_minor": 5
}
